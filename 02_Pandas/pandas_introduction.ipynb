{
 "cells": [
  {
   "cell_type": "markdown",
   "metadata": {},
   "source": [
    "## Einführung in Pandas"
   ]
  },
  {
   "cell_type": "code",
   "execution_count": null,
   "metadata": {
    "tags": []
   },
   "outputs": [],
   "source": [
    "import pandas as pd"
   ]
  },
  {
   "cell_type": "markdown",
   "metadata": {},
   "source": [
    "## Einlesen von Daten"
   ]
  },
  {
   "cell_type": "markdown",
   "metadata": {},
   "source": [
    "- Viele unterschiedliche Dateiformate einlesbar mit Pandas (pd.read_*)\n",
    "- Mit pd.to_* können Dateien mit unterschiedlichen Dateformaten gespeichert werden"
   ]
  },
  {
   "cell_type": "markdown",
   "metadata": {},
   "source": [
    "![Entnommen von Pandas Webseite](images/pandas_read_write.png)\n"
   ]
  },
  {
   "cell_type": "code",
   "execution_count": null,
   "metadata": {
    "tags": []
   },
   "outputs": [],
   "source": [
    "df = pd.read_csv('./dataset/titanic.csv')"
   ]
  },
  {
   "cell_type": "markdown",
   "metadata": {},
   "source": [
    "Aufpassen mit unterschiedlichen Seperatoren:"
   ]
  },
  {
   "cell_type": "code",
   "execution_count": null,
   "metadata": {
    "tags": []
   },
   "outputs": [],
   "source": [
    "df = pd.read_csv('./dataset/diff_titanic.csv')"
   ]
  },
  {
   "cell_type": "code",
   "execution_count": null,
   "metadata": {
    "tags": []
   },
   "outputs": [],
   "source": [
    "# Anpassung des Seperators durch delimiter=\"\"\n",
    "df = pd.read_csv('./dataset/diff_titanic.csv', sep=';')"
   ]
  },
  {
   "cell_type": "markdown",
   "metadata": {},
   "source": [
    "## DataFrame und Series"
   ]
  },
  {
   "cell_type": "markdown",
   "metadata": {},
   "source": [
    "### DataFrame"
   ]
  },
  {
   "cell_type": "markdown",
   "metadata": {},
   "source": [
    "Ein DataFrame ist 2 dimensional und besteht aus Spalten, Reihen, sowie einem Index:\n",
    "\n",
    "<div>\n",
    "<img src=\"./images/dataframe_structure.png\" width=\"400\"/>\n",
    "</div>"
   ]
  },
  {
   "cell_type": "code",
   "execution_count": null,
   "metadata": {
    "tags": []
   },
   "outputs": [],
   "source": [
    "# Anzahl an Reihen und Spalten des DataFrames:\n",
    "df.shape"
   ]
  },
  {
   "cell_type": "code",
   "execution_count": null,
   "metadata": {
    "tags": []
   },
   "outputs": [],
   "source": [
    "# Anzeigen aller Spaltennamen\n",
    "df.columns"
   ]
  },
  {
   "cell_type": "code",
   "execution_count": null,
   "metadata": {
    "tags": []
   },
   "outputs": [],
   "source": [
    "# Anzeigen des Index\n",
    "df.index"
   ]
  },
  {
   "cell_type": "markdown",
   "metadata": {},
   "source": [
    "Auswahl von Reihen und Columns entweder mit *iloc* oder *loc*:\n",
    "- iloc für integer indexing\n",
    "- loc für label indexing"
   ]
  },
  {
   "cell_type": "markdown",
   "metadata": {},
   "source": [
    "#### Auswahl von Spalten"
   ]
  },
  {
   "cell_type": "markdown",
   "metadata": {},
   "source": [
    "Auswahl bestimmter Spalten mit loc:"
   ]
  },
  {
   "cell_type": "code",
   "execution_count": null,
   "metadata": {
    "tags": []
   },
   "outputs": [],
   "source": [
    "# Alternative: df[['PassengerId', 'Survived', 'Pclass', 'Name', 'Sex']]\n",
    "column_names = ['PassengerId', 'Survived', 'Pclass', 'Name', 'Sex']\n",
    "df.loc[:,column_names]"
   ]
  },
  {
   "cell_type": "markdown",
   "metadata": {},
   "source": [
    "Auswahl bestimmter Spalten mit iloc:"
   ]
  },
  {
   "cell_type": "code",
   "execution_count": null,
   "metadata": {
    "tags": []
   },
   "outputs": [],
   "source": [
    "# Alternative mit Range: df.iloc[:,1:4]\n",
    "df.iloc[:,3]"
   ]
  },
  {
   "cell_type": "markdown",
   "metadata": {},
   "source": [
    "#### Auswahl von Reihen"
   ]
  },
  {
   "cell_type": "markdown",
   "metadata": {},
   "source": [
    "Auswahl bestimmter Reihen mit loc:"
   ]
  },
  {
   "cell_type": "code",
   "execution_count": null,
   "metadata": {
    "tags": []
   },
   "outputs": [],
   "source": [
    "# Alternative mit Range: df.loc[1:5]\n",
    "df.loc[[1,2,3,4]]"
   ]
  },
  {
   "cell_type": "markdown",
   "metadata": {},
   "source": [
    "Auswahl bestimmter Reihen mit iloc:"
   ]
  },
  {
   "cell_type": "code",
   "execution_count": null,
   "metadata": {
    "tags": []
   },
   "outputs": [],
   "source": [
    "# Alternative mit Range:\n",
    "df.iloc[1:5]"
   ]
  },
  {
   "cell_type": "markdown",
   "metadata": {},
   "source": [
    "<b>Aufgabe 1:</b> <br>\n",
    "Lesen Sie das csv File (kann auf Moodle gefunden werden) als DataFrame ein und selektieren Sie die Spalten Age, Cabin und Survived, sowie die Reihen mit einem Index Wert von 10 bis einschließlich 15."
   ]
  },
  {
   "cell_type": "code",
   "execution_count": null,
   "metadata": {},
   "outputs": [],
   "source": [
    "# Lösung:\n",
    "df = pd.read_csv('./dataset/titanic.csv')\n",
    "df.loc[10:15, ['Age', 'Cabin', 'Survived']]"
   ]
  },
  {
   "cell_type": "markdown",
   "metadata": {},
   "source": [
    "#### Auswahl von Reihen basierend auf Konditionen "
   ]
  },
  {
   "cell_type": "markdown",
   "metadata": {},
   "source": [
    "- Es können Reihen basierend auf unterschiedliche Konditionen ausgewählt werden\n",
    "- Mehrere Konditionen können mit den Operatoren & (und), sowie | (oder verknüpft werden). ~ steht für Not.\n",
    "- Es ist zu beachten, dass bei mehreren Konditionen die jeweiligen Konditionen in einer Klammer stehen müssen\n",
    "- Gängige Fallunterscheidungen von Python möglich mit unterschiedlicher Syntax in bestimmten Fällen.\n",
    "- Erstellt neues DataFrame!"
   ]
  },
  {
   "cell_type": "code",
   "execution_count": null,
   "metadata": {
    "tags": []
   },
   "outputs": [],
   "source": [
    "# Selektiere alle Personen, die älter als 70 sind\n",
    "df.loc[\n",
    "    (df['Age'] > 70) & (df['Sex'] == 'female')\n",
    "]"
   ]
  },
  {
   "cell_type": "code",
   "execution_count": null,
   "metadata": {},
   "outputs": [],
   "source": [
    "# Selektiere Männer die älter als 70 sind oder alle Frauen\n",
    "df.loc[\n",
    "    ((df['Sex'] == 'male') & (df['Age'] > 70)) |\n",
    "    (df['Sex'] == 'female')\n",
    "]"
   ]
  },
  {
   "cell_type": "code",
   "execution_count": null,
   "metadata": {
    "tags": []
   },
   "outputs": [],
   "source": [
    "# Selektiere alle Personen deren Ticket ID nicht folgenden sind: 347082, CA. 2343, 1601 und 3101295\n",
    "df.loc[\n",
    "    ~df['Ticket'].isin(['347082', 'CA. 2343', '1601', '3101295'])\n",
    "]"
   ]
  },
  {
   "cell_type": "markdown",
   "metadata": {},
   "source": [
    "<b>Aufgabe 2:</b><br> \n",
    "Selektiere alle Männer, die älter als 50 sind, nicht überlebt haben (Nicht Survived = 0) und deren Name \"Patrick\" enthält."
   ]
  },
  {
   "cell_type": "code",
   "execution_count": null,
   "metadata": {
    "collapsed": true,
    "jupyter": {
     "outputs_hidden": true
    },
    "tags": []
   },
   "outputs": [],
   "source": [
    "# Lösung:\n",
    "df.loc[\n",
    "    (df['Sex'] == 'male') & \n",
    "    (df['Age'] > 50) &\n",
    "    (df['Survived'] == 0) & \n",
    "    (df['Name'].str.contains('Patrick'))\n",
    "]"
   ]
  },
  {
   "cell_type": "markdown",
   "metadata": {},
   "source": [
    "### Series"
   ]
  },
  {
   "cell_type": "markdown",
   "metadata": {},
   "source": [
    "- Eine Pandas Series ist 1 dimensional und besteht aus einer Sequenz von Werten (ähnlich zu einer Liste)\n",
    "- Datenstruktur einer DataFrame Spalte"
   ]
  },
  {
   "cell_type": "code",
   "execution_count": null,
   "metadata": {
    "tags": []
   },
   "outputs": [],
   "source": [
    "# Anzeigen einer Series mit Informationen, wie Name, Length und Data Type\n",
    "df['Age']"
   ]
  },
  {
   "cell_type": "code",
   "execution_count": null,
   "metadata": {
    "tags": []
   },
   "outputs": [],
   "source": [
    "# Series zu Python Liste:\n",
    "df['Age'].to_list()"
   ]
  },
  {
   "cell_type": "markdown",
   "metadata": {},
   "source": [
    "## Daten Analyse"
   ]
  },
  {
   "cell_type": "code",
   "execution_count": null,
   "metadata": {
    "tags": []
   },
   "outputs": [],
   "source": [
    "# Anzeigen der ersten 5 Reihen\n",
    "# Anzeigen der letzten 5 Reihen mit df.tail()\n",
    "df.head(5)"
   ]
  },
  {
   "cell_type": "code",
   "execution_count": null,
   "metadata": {
    "tags": []
   },
   "outputs": [],
   "source": [
    "# Anzeigen von zufälligen Reihen\n",
    "df.sample()"
   ]
  },
  {
   "cell_type": "markdown",
   "metadata": {},
   "source": [
    "Mithilfe von .info() können wir generelle Informationen über das DataFrame erhalten, welche zu Beginn einer Analyse wichtig sind:\n",
    "- Index\n",
    "- Anzahl an Spalten\n",
    "- Spalten Index, Name, Datentype und Anzahl an Non-Null Werten \n",
    "- Memory Usage"
   ]
  },
  {
   "cell_type": "code",
   "execution_count": null,
   "metadata": {
    "tags": []
   },
   "outputs": [],
   "source": [
    "# Information über das DataFrame\n",
    "# Object Dtype ist String oder vermischte Datentypen in einer Spalte\n",
    "df.info()"
   ]
  },
  {
   "cell_type": "markdown",
   "metadata": {},
   "source": [
    "- Die Funktion .describe() berechnet deskriptive Statistiken, wie Durchschnitt, Standardabweichung, Minimum, Maxium pro Spalte. \n",
    "- Achtung: Per Default werden lediglich numerische Variablen berücksichtigt, kann aber mit include=\"all\" geändert werden."
   ]
  },
  {
   "cell_type": "code",
   "execution_count": null,
   "metadata": {
    "tags": []
   },
   "outputs": [],
   "source": [
    "df.describe()"
   ]
  },
  {
   "cell_type": "markdown",
   "metadata": {},
   "source": [
    "Statistiken können auch für einzelne Spalten berechnet werden:"
   ]
  },
  {
   "cell_type": "code",
   "execution_count": null,
   "metadata": {
    "tags": []
   },
   "outputs": [],
   "source": [
    "print('Durchschnittsalter =', round(df['Age'].mean(),2))\n",
    "print('Max Alter =', df['Age'].max())\n",
    "print('Min Alter =', df['Age'].min())"
   ]
  },
  {
   "cell_type": "code",
   "execution_count": null,
   "metadata": {
    "tags": []
   },
   "outputs": [],
   "source": [
    "# Anzeigen der Anzahl an unique Werten einer Spalte:\n",
    "df[\"Sex\"].value_counts()"
   ]
  },
  {
   "cell_type": "markdown",
   "metadata": {},
   "source": [
    "## Cleaning & Manipulation"
   ]
  },
  {
   "cell_type": "markdown",
   "metadata": {},
   "source": [
    "#### Duplikate\n",
    "Mithilfe von drop_duplicates können wir Duplikate entfernen:"
   ]
  },
  {
   "cell_type": "code",
   "execution_count": null,
   "metadata": {
    "tags": []
   },
   "outputs": [],
   "source": [
    "print(df.shape)\n",
    "df = df.drop_duplicates()\n",
    "print(df.shape) # Erfolgskontrolle"
   ]
  },
  {
   "cell_type": "markdown",
   "metadata": {},
   "source": [
    "### Leere Datenpunkte"
   ]
  },
  {
   "cell_type": "markdown",
   "metadata": {},
   "source": [
    "<b>Aufgabe 3:</b></br> \n",
    "Unser DataFrame hat 177 Null Werte in der Spalte \"Age\". Zeigen Sie alle Datenpunkte die keinen \"Age\" Wert haben."
   ]
  },
  {
   "cell_type": "code",
   "execution_count": null,
   "metadata": {
    "tags": []
   },
   "outputs": [],
   "source": [
    "# Lösung: \n",
    "df.loc[\n",
    "    df['Age'].isna()\n",
    "]"
   ]
  },
  {
   "cell_type": "code",
   "execution_count": null,
   "metadata": {},
   "outputs": [],
   "source": [
    "# Entfernt alle Reihen die mindestens einen Null Wert haben\n",
    "df.dropna()"
   ]
  },
  {
   "cell_type": "code",
   "execution_count": null,
   "metadata": {},
   "outputs": [],
   "source": [
    "# Entfernt alle Reihen die ausschließlich Null Werte haben\n",
    "df.dropna(how='all')"
   ]
  },
  {
   "cell_type": "code",
   "execution_count": null,
   "metadata": {},
   "outputs": [],
   "source": [
    "# Entfernt alle Reihen die Null Werte in den angegebenen Spalten haben\n",
    "# Beispiel equivalent zu df.loc[df['Age'].notna()]\n",
    "df.dropna(subset=['Age'])"
   ]
  },
  {
   "cell_type": "markdown",
   "metadata": {},
   "source": [
    "Wir wollen nicht alle Reihen verlieren, die kein Alter haben, deshalb füllen wir die Nan Werte mit dem Median des Alters auf."
   ]
  },
  {
   "cell_type": "code",
   "execution_count": null,
   "metadata": {
    "tags": []
   },
   "outputs": [],
   "source": [
    "# Verwendung der fillna Funktion\n",
    "age_median = df['Age'].median()\n",
    "df[\"Age\"] = df[\"Age\"].fillna(age_median)"
   ]
  },
  {
   "cell_type": "code",
   "execution_count": null,
   "metadata": {},
   "outputs": [],
   "source": [
    "df[\"Age\"].isna().sum()"
   ]
  },
  {
   "cell_type": "markdown",
   "metadata": {},
   "source": [
    "#### Falsche Datentypen\n",
    "Wollen wir beispielsweise eine Spalte mit Integers in String umwandeln, haben wir folgende Möglichkeit:"
   ]
  },
  {
   "cell_type": "code",
   "execution_count": null,
   "metadata": {
    "tags": []
   },
   "outputs": [],
   "source": [
    "df['Survived'] = df['Survived'].astype(str)"
   ]
  },
  {
   "cell_type": "markdown",
   "metadata": {},
   "source": [
    "Das Anpassen und Ändern von Datentypen kommt vor allem häufig bei Spalten mit Datum vor."
   ]
  },
  {
   "cell_type": "markdown",
   "metadata": {},
   "source": [
    "#### Ändern von Werten\n",
    "- In vielen Datensätzen kann es vorkommen, dass fehlerhafte Werte enthalten sind.\n",
    "- Betrachtet man die \"Age\" Spalte, so fällt auf, dass mehrere unrealistische Werte auftauchen\n",
    "- In der kommenden Vorlesung lernen wir, wie solche Werte durch Visualisierungen gefunden und veranschaulicht werden können"
   ]
  },
  {
   "cell_type": "markdown",
   "metadata": {},
   "source": [
    "Mit Pandas können mehrere Werte basierend auf Konditionen ersetzt werden. Wir ersetzen alle unrealistischen Werte (Alter > 100 und Alter < 0) mit dem Median Alter."
   ]
  },
  {
   "cell_type": "code",
   "execution_count": null,
   "metadata": {
    "tags": []
   },
   "outputs": [],
   "source": [
    "age_median = df.loc[(df['Age'] < 100) & (df['Age'] > 0)]['Age'].median()"
   ]
  },
  {
   "cell_type": "code",
   "execution_count": null,
   "metadata": {
    "tags": []
   },
   "outputs": [],
   "source": [
    "df.loc[(df[\"Age\"] > 100) | (df[\"Age\"] < 0), \"Age\"] = age_median"
   ]
  },
  {
   "cell_type": "code",
   "execution_count": null,
   "metadata": {},
   "outputs": [],
   "source": [
    "df['Age'].describe()"
   ]
  }
 ],
 "metadata": {
  "kernelspec": {
   "display_name": "Python 3 (ipykernel)",
   "language": "python",
   "name": "python3"
  },
  "language_info": {
   "codemirror_mode": {
    "name": "ipython",
    "version": 3
   },
   "file_extension": ".py",
   "mimetype": "text/x-python",
   "name": "python",
   "nbconvert_exporter": "python",
   "pygments_lexer": "ipython3",
   "version": "3.10.9"
  }
 },
 "nbformat": 4,
 "nbformat_minor": 4
}
